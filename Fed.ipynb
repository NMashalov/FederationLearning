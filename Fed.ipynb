{
  "nbformat": 4,
  "nbformat_minor": 0,
  "metadata": {
    "colab": {
      "provenance": [],
      "authorship_tag": "ABX9TyMlQqhRb7ZRQkreRnPMlFFJ",
      "include_colab_link": true
    },
    "kernelspec": {
      "name": "python3",
      "display_name": "Python 3"
    },
    "language_info": {
      "name": "python"
    }
  },
  "cells": [
    {
      "cell_type": "markdown",
      "metadata": {
        "id": "view-in-github",
        "colab_type": "text"
      },
      "source": [
        "<a href=\"https://colab.research.google.com/github/NMashalov/FederationLearning/blob/master/Fed.ipynb\" target=\"_parent\"><img src=\"https://colab.research.google.com/assets/colab-badge.svg\" alt=\"Open In Colab\"/></a>"
      ]
    },
    {
      "cell_type": "code",
      "execution_count": 1,
      "metadata": {
        "colab": {
          "base_uri": "https://localhost:8080/"
        },
        "id": "96_Hakrr8iQ9",
        "outputId": "40820b8d-c5cb-4af0-eaa6-197ca140e08d"
      },
      "outputs": [
        {
          "output_type": "stream",
          "name": "stdout",
          "text": [
            "--2023-11-15 21:45:39--  https://www.csie.ntu.edu.tw/~cjlin/libsvmtools/datasets/binary/a9a\n",
            "Resolving www.csie.ntu.edu.tw (www.csie.ntu.edu.tw)... 140.112.30.26\n",
            "Connecting to www.csie.ntu.edu.tw (www.csie.ntu.edu.tw)|140.112.30.26|:443... connected.\n",
            "HTTP request sent, awaiting response... 200 OK\n",
            "Length: 2329875 (2.2M)\n",
            "Saving to: ‘a9a’\n",
            "\n",
            "a9a                 100%[===================>]   2.22M  1.56MB/s    in 1.4s    \n",
            "\n",
            "2023-11-15 21:45:41 (1.56 MB/s) - ‘a9a’ saved [2329875/2329875]\n",
            "\n"
          ]
        }
      ],
      "source": [
        "!wget https://www.csie.ntu.edu.tw/~cjlin/libsvmtools/datasets/binary/a9a"
      ]
    },
    {
      "cell_type": "code",
      "source": [
        "from sklearn.datasets import load_svmlight_file\n",
        "\n",
        "X_train, y_train = load_svmlight_file('a9a')"
      ],
      "metadata": {
        "id": "6i2ixcuk8pF-"
      },
      "execution_count": 3,
      "outputs": []
    },
    {
      "cell_type": "code",
      "source": [
        "X_train.toarray()"
      ],
      "metadata": {
        "colab": {
          "base_uri": "https://localhost:8080/"
        },
        "id": "DHA96AaF85en",
        "outputId": "91aeee90-cbed-4182-91ee-b56df31e0c1c"
      },
      "execution_count": 6,
      "outputs": [
        {
          "output_type": "execute_result",
          "data": {
            "text/plain": [
              "array([[0., 0., 1., ..., 0., 0., 0.],\n",
              "       [0., 0., 0., ..., 0., 0., 0.],\n",
              "       [0., 0., 1., ..., 0., 0., 0.],\n",
              "       ...,\n",
              "       [0., 0., 0., ..., 0., 0., 0.],\n",
              "       [1., 0., 0., ..., 0., 0., 0.],\n",
              "       [0., 0., 0., ..., 0., 0., 0.]])"
            ]
          },
          "metadata": {},
          "execution_count": 6
        }
      ]
    },
    {
      "cell_type": "code",
      "source": [
        "import numpy\n",
        "\n",
        "def sample_grad(self, weight, batch_size):\n",
        "        \"\"\"\n",
        "        Sample minibatch gradients with size batch_size (For MB-SGD and MB-AC-SGD)\n",
        "\n",
        "        Arguments:\n",
        "            weight: w\n",
        "            batch_size: number of samples queried to compute the sample gradient.\n",
        "\n",
        "        Return:\n",
        "            Averaged gradients\n",
        "        \"\"\"\n",
        "        samples_idx = np.random.choice(self.n_samples, batch_size, replace=True)\n",
        "        X_sampled = self.X_train[samples_idx, :]\n",
        "        y_sampled = self.y_train[samples_idx]\n",
        "\n",
        "        grad = -((y_sampled * (1 - sigm((X_sampled @ weight) * y_sampled))).T @ X_sampled) / \\\n",
        "            len(y_sampled) + self.lambd * weight\n",
        "\n",
        "        return grad"
      ],
      "metadata": {
        "id": "oxSMZOixAEYz"
      },
      "execution_count": null,
      "outputs": []
    },
    {
      "cell_type": "code",
      "source": [
        "def loss(self, X, Y, weight):\n",
        "        \"\"\"\n",
        "        Compute the loss.\n",
        "        \"\"\"\n",
        "        return -np.mean(np.log(sigm((X @ weight) * Y))) + 0.5 * self.lambd * np.linalg.norm(weight) ** 2"
      ],
      "metadata": {
        "id": "trGv9TcE_-9F"
      },
      "execution_count": null,
      "outputs": []
    },
    {
      "cell_type": "code",
      "source": [
        "seq = pd.Series(name='loss')\n",
        "    for iter_cnt in range(0, T+1, K):\n",
        "        if iter_cnt % record_intvl == 0:\n",
        "            seq.at[iter_cnt] = self.population_loss(w)\n",
        "        w -= eta * self.sample_grad(w, M*K*local_batch)\n",
        "    return seq"
      ],
      "metadata": {
        "id": "DuHD9OXf9ID7"
      },
      "execution_count": null,
      "outputs": []
    }
  ]
}